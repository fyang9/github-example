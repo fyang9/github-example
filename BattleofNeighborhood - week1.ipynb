{
 "cells": [
  {
   "cell_type": "markdown",
   "metadata": {},
   "source": [
    "  \n",
    "    \n",
    "      \n",
    "<a id='toc'></a>\n",
    "<center><h1>The Battle of Neighborhood</font></h1>\n",
    "Segmenting and Clustering Neighborhoods of NY and Toronto  \n",
    "by Fan Yang</center>\n",
    "\n",
    "----"
   ]
  },
  {
   "cell_type": "markdown",
   "metadata": {},
   "source": [
    "## Table of Contents\n",
    "- [Introduction](#introduction)\n",
    "- [Objectives](#objective)\n",
    "- [Data](#data)\n"
   ]
  },
  {
   "cell_type": "markdown",
   "metadata": {},
   "source": [
    "<a id='introduction'></a>\n",
    "# Introduction\n",
    "New York City and the city of Toronto are two major cities in North America, both of them are the centers of attention for residential, job employment, tourism, education, shopping and sports activity. People from all over the world visit, work, live in these two cities. The large amount of immigrants means a hugh restaurant market. The diversified and inclusive culture of these two big cities brings lots of oppertunities to people who wants to open restaurants.\n",
    "\n",
    "\"Dragon Express\" is a food company mainly located in Asian. It provides asian food from China, Korean and Japan. This time, the CEO decides to open up their first restaurant in North America. New York City and the city of Toronto are both their potential locations for the new restaurant. Now, what should they do? Which city have more asian restaurants? Which city is more open to asian cultures?\n",
    "\n",
    "Therefore, this time, I would like to compare the restaurants of the two cities and figure out which one has more asian restaurants. Do New York City has more Chinese, Indian, or Japanese restaurants than Toronto?\n",
    "\n",
    "Brief information about both cities:\n",
    "- NY: The City of New York, usually called either New York City (NYC) or simply New York (NY), is the most populous city in the United States. With an estimated 2018 population of 8,398,748 distributed over a land area of about 302.6 square miles (784 km2). (source: https://en.wikipedia.org/wiki/New_York_City)  \n",
    "\n",
    "- Toronto: Toronto is the provincial capital of Ontario and the most populous city in Canada, with a population of 2,731,571 in 2016. (source: https://en.wikipedia.org/wiki/Toronto)"
   ]
  },
  {
   "cell_type": "markdown",
   "metadata": {},
   "source": [
    "<a id='objective'></a>\n",
    "# Objective\n",
    "In this project, we will study in details the area classification using Foursquare data and machine learning segmentation and clustering.\n",
    "The aim of this project is to segment areas of NY and Toronto based on the most common places captured from Foursquare. \n",
    "\n",
    "Using segmentation and clustering, we hope we can determine:\n",
    "1. the similarity or dissimilarirty of both cities\n",
    "2. classification of area located inside the city whether it is residential, tourism places, or others\n",
    "3. which one should we open \"Dragon Express\"?"
   ]
  },
  {
   "cell_type": "markdown",
   "metadata": {},
   "source": [
    "<a id='data'></a>\n",
    "# Data\n",
    "Foursquare will be used to gather the locations of different restaurant. It provides different types of restaurants in a given area and enables us to analyze the numbers of Chinese, Japanese, Indian restaurants in New York City and City of Toronto."
   ]
  }
 ],
 "metadata": {
  "kernelspec": {
   "display_name": "Python 3.6",
   "language": "python",
   "name": "python3"
  },
  "language_info": {
   "codemirror_mode": {
    "name": "ipython",
    "version": 3
   },
   "file_extension": ".py",
   "mimetype": "text/x-python",
   "name": "python",
   "nbconvert_exporter": "python",
   "pygments_lexer": "ipython3",
   "version": "3.6.8"
  }
 },
 "nbformat": 4,
 "nbformat_minor": 2
}
